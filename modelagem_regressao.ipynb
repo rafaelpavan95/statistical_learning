{
 "cells": [
  {
   "cell_type": "markdown",
   "metadata": {},
   "source": [
    "# Modelagem Estatística - Linear Regression Models"
   ]
  },
  {
   "cell_type": "code",
   "execution_count": 4,
   "metadata": {},
   "outputs": [],
   "source": [
    "import numpy as np\n",
    "import pandas as pd\n",
    "from scipy import stats\n",
    "import matplotlib.pyplot as plt\n",
    "import statsmodels.formula.api as sm"
   ]
  },
  {
   "cell_type": "code",
   "execution_count": 5,
   "metadata": {},
   "outputs": [
    {
     "name": "stdout",
     "output_type": "stream",
     "text": [
      "                            OLS Regression Results                            \n",
      "==============================================================================\n",
      "Dep. Variable:                      y   R-squared:                       0.996\n",
      "Model:                            OLS   Adj. R-squared:                  0.996\n",
      "Method:                 Least Squares   F-statistic:                 2.207e+04\n",
      "Date:                Fri, 17 Sep 2021   Prob (F-statistic):          3.43e-117\n",
      "Time:                        11:00:37   Log-Likelihood:                -137.14\n",
      "No. Observations:                 100   AIC:                             278.3\n",
      "Df Residuals:                      98   BIC:                             283.5\n",
      "Df Model:                           1                                         \n",
      "Covariance Type:            nonrobust                                         \n",
      "==============================================================================\n",
      "                 coef    std err          t      P>|t|      [0.025      0.975]\n",
      "------------------------------------------------------------------------------\n",
      "Intercept    -19.7816      0.191   -103.454      0.000     -20.161     -19.402\n",
      "x              0.4957      0.003    148.562      0.000       0.489       0.502\n",
      "==============================================================================\n",
      "Omnibus:                        1.060   Durbin-Watson:                   1.962\n",
      "Prob(Omnibus):                  0.588   Jarque-Bera (JB):                0.567\n",
      "Skew:                          -0.047   Prob(JB):                        0.753\n",
      "Kurtosis:                       3.357   Cond. No.                         114.\n",
      "==============================================================================\n",
      "\n",
      "Warnings:\n",
      "[1] Standard Errors assume that the covariance matrix of the errors is correctly specified.\n"
     ]
    }
   ],
   "source": [
    "x = np.arange(100)\n",
    "\n",
    "y = 0.5*x - 20 + np.random.randn(len(x))\n",
    "\n",
    "df = pd.DataFrame({'x':x, 'y':y})\n",
    "\n",
    "model = sm.ols('y~x', data=df).fit()\n",
    "\n",
    "\n",
    "print((model.summary()))\n"
   ]
  },
  {
   "cell_type": "code",
   "execution_count": 7,
   "metadata": {},
   "outputs": [
    {
     "data": {
      "image/png": "[encoded data removed]",
      "text/plain": [
       "<Figure size 432x288 with 1 Axes>"
      ]
     },
     "metadata": {
      "needs_background": "light"
     },
     "output_type": "display_data"
    }
   ],
   "source": [
    "plt.scatter(x,y)\n",
    "plt.grid()"
   ]
  },
  {
   "cell_type": "code",
   "execution_count": 9,
   "metadata": {},
   "outputs": [],
   "source": [
    "from urllib.request import urlopen\n",
    "inFile = 'swim100m.csv'\n",
    "url_base = 'https://raw.githubusercontent.com/thomas-haslwanter/statsintro_python/master/ipynb/Data/data_kaplan/'\n",
    "url = url_base + inFile\n",
    "dados = pd.read_csv(urlopen(url))"
   ]
  },
  {
   "cell_type": "code",
   "execution_count": 10,
   "metadata": {},
   "outputs": [
    {
     "data": {
      "text/html": [
       "<div>\n",
       "<style scoped>\n",
       "    .dataframe tbody tr th:only-of-type {\n",
       "        vertical-align: middle;\n",
       "    }\n",
       "\n",
       "    .dataframe tbody tr th {\n",
       "        vertical-align: top;\n",
       "    }\n",
       "\n",
       "    .dataframe thead th {\n",
       "        text-align: right;\n",
       "    }\n",
       "</style>\n",
       "<table border=\"1\" class=\"dataframe\">\n",
       "  <thead>\n",
       "    <tr style=\"text-align: right;\">\n",
       "      <th></th>\n",
       "      <th>year</th>\n",
       "      <th>time</th>\n",
       "      <th>sex</th>\n",
       "    </tr>\n",
       "  </thead>\n",
       "  <tbody>\n",
       "    <tr>\n",
       "      <th>0</th>\n",
       "      <td>1905</td>\n",
       "      <td>65.8</td>\n",
       "      <td>M</td>\n",
       "    </tr>\n",
       "    <tr>\n",
       "      <th>1</th>\n",
       "      <td>1908</td>\n",
       "      <td>65.6</td>\n",
       "      <td>M</td>\n",
       "    </tr>\n",
       "    <tr>\n",
       "      <th>2</th>\n",
       "      <td>1910</td>\n",
       "      <td>62.8</td>\n",
       "      <td>M</td>\n",
       "    </tr>\n",
       "    <tr>\n",
       "      <th>3</th>\n",
       "      <td>1912</td>\n",
       "      <td>61.6</td>\n",
       "      <td>M</td>\n",
       "    </tr>\n",
       "    <tr>\n",
       "      <th>4</th>\n",
       "      <td>1918</td>\n",
       "      <td>61.4</td>\n",
       "      <td>M</td>\n",
       "    </tr>\n",
       "  </tbody>\n",
       "</table>\n",
       "</div>"
      ],
      "text/plain": [
       "   year  time sex\n",
       "0  1905  65.8   M\n",
       "1  1908  65.6   M\n",
       "2  1910  62.8   M\n",
       "3  1912  61.6   M\n",
       "4  1918  61.4   M"
      ]
     },
     "execution_count": 10,
     "metadata": {},
     "output_type": "execute_result"
    }
   ],
   "source": [
    "dados.head()"
   ]
  },
  {
   "cell_type": "code",
   "execution_count": 11,
   "metadata": {},
   "outputs": [
    {
     "data": {
      "text/plain": [
       "<matplotlib.axes._subplots.AxesSubplot at 0x7f6995a03310>"
      ]
     },
     "execution_count": 11,
     "metadata": {},
     "output_type": "execute_result"
    },
    {
     "data": {
      "image/png": "[encoded data removed]",
      "text/plain": [
       "<Figure size 432x288 with 1 Axes>"
      ]
     },
     "metadata": {
      "needs_background": "light"
     },
     "output_type": "display_data"
    }
   ],
   "source": [
    "import seaborn as sns\n",
    "\n",
    "sns.boxplot(data=dados, x='sex', y='time')"
   ]
  },
  {
   "cell_type": "code",
   "execution_count": 14,
   "metadata": {},
   "outputs": [
    {
     "name": "stdout",
     "output_type": "stream",
     "text": [
      "                            OLS Regression Results                            \n",
      "==============================================================================\n",
      "Dep. Variable:                   time   R-squared:                       0.287\n",
      "Model:                            OLS   Adj. R-squared:                  0.275\n",
      "Method:                 Least Squares   F-statistic:                     24.13\n",
      "Date:                Fri, 17 Sep 2021   Prob (F-statistic):           7.28e-06\n",
      "Time:                        11:09:07   Log-Likelihood:                -219.23\n",
      "No. Observations:                  62   AIC:                             442.5\n",
      "Df Residuals:                      60   BIC:                             446.7\n",
      "Df Model:                           1                                         \n",
      "Covariance Type:            nonrobust                                         \n",
      "==============================================================================\n",
      "                 coef    std err          t      P>|t|      [0.025      0.975]\n",
      "------------------------------------------------------------------------------\n",
      "Intercept     65.1923      1.517     42.986      0.000      62.159      68.226\n",
      "sex[T.M]     -10.5361      2.145     -4.912      0.000     -14.826      -6.246\n",
      "==============================================================================\n",
      "Omnibus:                       16.370   Durbin-Watson:                   0.353\n",
      "Prob(Omnibus):                  0.000   Jarque-Bera (JB):               19.838\n",
      "Skew:                           1.113   Prob(JB):                     4.92e-05\n",
      "Kurtosis:                       4.649   Cond. No.                         2.62\n",
      "==============================================================================\n",
      "\n",
      "Warnings:\n",
      "[1] Standard Errors assume that the covariance matrix of the errors is correctly specified.\n"
     ]
    }
   ],
   "source": [
    "from statsmodels.formula.api import ols\n",
    "import statsmodels.regression.linear_model as sm\n",
    "from statsmodels.stats.anova import anova_lm\n",
    "\n",
    "model1 = ols(\"time ~ sex\", dados).fit()  # 1 fator\n",
    "print(model1.summary())"
   ]
  },
  {
   "cell_type": "code",
   "execution_count": 15,
   "metadata": {},
   "outputs": [
    {
     "name": "stdout",
     "output_type": "stream",
     "text": [
      "            df       sum_sq      mean_sq          F    PR(>F)\n",
      "sex        1.0  1720.655232  1720.655232  24.132575  0.000007\n",
      "Residual  60.0  4278.006477    71.300108        NaN       NaN\n"
     ]
    }
   ],
   "source": [
    "print(anova_lm(model1))"
   ]
  },
  {
   "cell_type": "code",
   "execution_count": 17,
   "metadata": {},
   "outputs": [
    {
     "name": "stdout",
     "output_type": "stream",
     "text": [
      "                            OLS Regression Results                            \n",
      "==============================================================================\n",
      "Dep. Variable:                   time   R-squared:                       0.844\n",
      "Model:                            OLS   Adj. R-squared:                  0.839\n",
      "Method:                 Least Squares   F-statistic:                     159.6\n",
      "Date:                Fri, 17 Sep 2021   Prob (F-statistic):           1.58e-24\n",
      "Time:                        11:10:52   Log-Likelihood:                -172.12\n",
      "No. Observations:                  62   AIC:                             350.2\n",
      "Df Residuals:                      59   BIC:                             356.6\n",
      "Df Model:                           2                                         \n",
      "Covariance Type:            nonrobust                                         \n",
      "==============================================================================\n",
      "                 coef    std err          t      P>|t|      [0.025      0.975]\n",
      "------------------------------------------------------------------------------\n",
      "Intercept    555.7168     33.800     16.441      0.000     488.083     623.350\n",
      "sex[T.M]      -9.7980      1.013     -9.673      0.000     -11.825      -7.771\n",
      "year          -0.2515      0.017    -14.516      0.000      -0.286      -0.217\n",
      "==============================================================================\n",
      "Omnibus:                       52.546   Durbin-Watson:                   0.375\n",
      "Prob(Omnibus):                  0.000   Jarque-Bera (JB):              241.626\n",
      "Skew:                           2.430   Prob(JB):                     3.40e-53\n",
      "Kurtosis:                      11.362   Cond. No.                     1.30e+05\n",
      "==============================================================================\n",
      "\n",
      "Warnings:\n",
      "[1] Standard Errors assume that the covariance matrix of the errors is correctly specified.\n",
      "[2] The condition number is large, 1.3e+05. This might indicate that there are\n",
      "strong multicollinearity or other numerical problems.\n"
     ]
    }
   ],
   "source": [
    "model2 = ols(\"time ~ sex + year\", dados).fit()   # 2 fatores\n",
    "print(model2.summary())"
   ]
  },
  {
   "cell_type": "code",
   "execution_count": 21,
   "metadata": {},
   "outputs": [
    {
     "data": {
      "image/png": "[encoded data removed]",
      "text/plain": [
       "<Figure size 432x288 with 1 Axes>"
      ]
     },
     "metadata": {
      "needs_background": "light"
     },
     "output_type": "display_data"
    }
   ],
   "source": [
    "plt.scatter(dados['year'][dados['sex']=='M'], dados['time'][dados['sex']=='M'])\n",
    "plt.scatter(dados['year'][dados['sex']=='F'], dados['time'][dados['sex']=='F'])\n",
    "plt.grid()"
   ]
  },
  {
   "cell_type": "code",
   "execution_count": 22,
   "metadata": {},
   "outputs": [
    {
     "name": "stdout",
     "output_type": "stream",
     "text": [
      "                            OLS Regression Results                            \n",
      "==============================================================================\n",
      "Dep. Variable:                   time   R-squared:                       0.893\n",
      "Model:                            OLS   Adj. R-squared:                  0.888\n",
      "Method:                 Least Squares   F-statistic:                     162.1\n",
      "Date:                Fri, 17 Sep 2021   Prob (F-statistic):           3.67e-28\n",
      "Time:                        11:13:27   Log-Likelihood:                -160.30\n",
      "No. Observations:                  62   AIC:                             328.6\n",
      "Df Residuals:                      58   BIC:                             337.1\n",
      "Df Model:                           3                                         \n",
      "Covariance Type:            nonrobust                                         \n",
      "=================================================================================\n",
      "                    coef    std err          t      P>|t|      [0.025      0.975]\n",
      "---------------------------------------------------------------------------------\n",
      "Intercept       697.3012     39.221     17.779      0.000     618.791     775.811\n",
      "sex[T.M]       -302.4638     56.412     -5.362      0.000    -415.384    -189.544\n",
      "year             -0.3240      0.020    -16.118      0.000      -0.364      -0.284\n",
      "sex[T.M]:year     0.1499      0.029      5.189      0.000       0.092       0.208\n",
      "==============================================================================\n",
      "Omnibus:                       49.919   Durbin-Watson:                   0.575\n",
      "Prob(Omnibus):                  0.000   Jarque-Bera (JB):              243.008\n",
      "Skew:                           2.224   Prob(JB):                     1.70e-53\n",
      "Kurtosis:                      11.619   Cond. No.                     3.40e+05\n",
      "==============================================================================\n",
      "\n",
      "Warnings:\n",
      "[1] Standard Errors assume that the covariance matrix of the errors is correctly specified.\n",
      "[2] The condition number is large, 3.4e+05. This might indicate that there are\n",
      "strong multicollinearity or other numerical problems.\n"
     ]
    }
   ],
   "source": [
    "model3 = ols(\"time ~ sex * year\", dados).fit()   # 2 fatores com interações\n",
    "print(model3.summary())"
   ]
  },
  {
   "cell_type": "code",
   "execution_count": 51,
   "metadata": {},
   "outputs": [
    {
     "name": "stdout",
     "output_type": "stream",
     "text": [
      "Summary:\n",
      "                            OLS Regression Results                            \n",
      "==============================================================================\n",
      "Dep. Variable:                      y   R-squared:                       0.996\n",
      "Model:                            OLS   Adj. R-squared:                  0.996\n",
      "Method:                 Least Squares   F-statistic:                 1.119e+04\n",
      "Date:                Fri, 17 Sep 2021   Prob (F-statistic):          1.97e-115\n",
      "Time:                        11:32:28   Log-Likelihood:                -290.29\n",
      "No. Observations:                 100   AIC:                             586.6\n",
      "Df Residuals:                      97   BIC:                             594.4\n",
      "Df Model:                           2                                         \n",
      "Covariance Type:            nonrobust                                         \n",
      "==============================================================================\n",
      "                 coef    std err          t      P>|t|      [0.025      0.975]\n",
      "------------------------------------------------------------------------------\n",
      "const          3.4195      1.317      2.596      0.011       0.806       6.033\n",
      "x1             3.9923      0.615      6.493      0.000       2.772       5.213\n",
      "x2             1.8889      0.060     31.432      0.000       1.770       2.008\n",
      "==============================================================================\n",
      "Omnibus:                        1.164   Durbin-Watson:                   1.998\n",
      "Prob(Omnibus):                  0.559   Jarque-Bera (JB):                0.659\n",
      "Skew:                          -0.055   Prob(JB):                        0.719\n",
      "Kurtosis:                       3.382   Cond. No.                         142.\n",
      "==============================================================================\n",
      "\n",
      "Warnings:\n",
      "[1] Standard Errors assume that the covariance matrix of the errors is correctly specified.\n"
     ]
    }
   ],
   "source": [
    "t = np.arange(0,10,0.1)\n",
    "\n",
    "y = 4 + 3*t + 2*t**2 + 5*np.random.randn(len(t))\n",
    "\n",
    "M = np.column_stack((np.ones(len(t)), t, t**2))\n",
    "\n",
    "M2 = np.column_stack((np.ones(len(t)), t, t**2,t**3))\n",
    "\n",
    "res = sm.OLS(y, M).fit()\n",
    "    \n",
    "\n",
    "res2 = sm.OLS(y, M2).fit()\n",
    "    \n",
    "# Display the results\n",
    "print('Summary:')\n",
    "print(res.summary())\n",
    "\n"
   ]
  },
  {
   "cell_type": "code",
   "execution_count": 52,
   "metadata": {},
   "outputs": [
    {
     "data": {
      "text/plain": [
       "array([[1.000e+00, 0.000e+00, 0.000e+00],\n",
       "       [1.000e+00, 1.000e-01, 1.000e-02],\n",
       "       [1.000e+00, 2.000e-01, 4.000e-02],\n",
       "       [1.000e+00, 3.000e-01, 9.000e-02],\n",
       "       [1.000e+00, 4.000e-01, 1.600e-01],\n",
       "       [1.000e+00, 5.000e-01, 2.500e-01],\n",
       "       [1.000e+00, 6.000e-01, 3.600e-01],\n",
       "       [1.000e+00, 7.000e-01, 4.900e-01],\n",
       "       [1.000e+00, 8.000e-01, 6.400e-01],\n",
       "       [1.000e+00, 9.000e-01, 8.100e-01],\n",
       "       [1.000e+00, 1.000e+00, 1.000e+00],\n",
       "       [1.000e+00, 1.100e+00, 1.210e+00],\n",
       "       [1.000e+00, 1.200e+00, 1.440e+00],\n",
       "       [1.000e+00, 1.300e+00, 1.690e+00],\n",
       "       [1.000e+00, 1.400e+00, 1.960e+00],\n",
       "       [1.000e+00, 1.500e+00, 2.250e+00],\n",
       "       [1.000e+00, 1.600e+00, 2.560e+00],\n",
       "       [1.000e+00, 1.700e+00, 2.890e+00],\n",
       "       [1.000e+00, 1.800e+00, 3.240e+00],\n",
       "       [1.000e+00, 1.900e+00, 3.610e+00],\n",
       "       [1.000e+00, 2.000e+00, 4.000e+00],\n",
       "       [1.000e+00, 2.100e+00, 4.410e+00],\n",
       "       [1.000e+00, 2.200e+00, 4.840e+00],\n",
       "       [1.000e+00, 2.300e+00, 5.290e+00],\n",
       "       [1.000e+00, 2.400e+00, 5.760e+00],\n",
       "       [1.000e+00, 2.500e+00, 6.250e+00],\n",
       "       [1.000e+00, 2.600e+00, 6.760e+00],\n",
       "       [1.000e+00, 2.700e+00, 7.290e+00],\n",
       "       [1.000e+00, 2.800e+00, 7.840e+00],\n",
       "       [1.000e+00, 2.900e+00, 8.410e+00],\n",
       "       [1.000e+00, 3.000e+00, 9.000e+00],\n",
       "       [1.000e+00, 3.100e+00, 9.610e+00],\n",
       "       [1.000e+00, 3.200e+00, 1.024e+01],\n",
       "       [1.000e+00, 3.300e+00, 1.089e+01],\n",
       "       [1.000e+00, 3.400e+00, 1.156e+01],\n",
       "       [1.000e+00, 3.500e+00, 1.225e+01],\n",
       "       [1.000e+00, 3.600e+00, 1.296e+01],\n",
       "       [1.000e+00, 3.700e+00, 1.369e+01],\n",
       "       [1.000e+00, 3.800e+00, 1.444e+01],\n",
       "       [1.000e+00, 3.900e+00, 1.521e+01],\n",
       "       [1.000e+00, 4.000e+00, 1.600e+01],\n",
       "       [1.000e+00, 4.100e+00, 1.681e+01],\n",
       "       [1.000e+00, 4.200e+00, 1.764e+01],\n",
       "       [1.000e+00, 4.300e+00, 1.849e+01],\n",
       "       [1.000e+00, 4.400e+00, 1.936e+01],\n",
       "       [1.000e+00, 4.500e+00, 2.025e+01],\n",
       "       [1.000e+00, 4.600e+00, 2.116e+01],\n",
       "       [1.000e+00, 4.700e+00, 2.209e+01],\n",
       "       [1.000e+00, 4.800e+00, 2.304e+01],\n",
       "       [1.000e+00, 4.900e+00, 2.401e+01],\n",
       "       [1.000e+00, 5.000e+00, 2.500e+01],\n",
       "       [1.000e+00, 5.100e+00, 2.601e+01],\n",
       "       [1.000e+00, 5.200e+00, 2.704e+01],\n",
       "       [1.000e+00, 5.300e+00, 2.809e+01],\n",
       "       [1.000e+00, 5.400e+00, 2.916e+01],\n",
       "       [1.000e+00, 5.500e+00, 3.025e+01],\n",
       "       [1.000e+00, 5.600e+00, 3.136e+01],\n",
       "       [1.000e+00, 5.700e+00, 3.249e+01],\n",
       "       [1.000e+00, 5.800e+00, 3.364e+01],\n",
       "       [1.000e+00, 5.900e+00, 3.481e+01],\n",
       "       [1.000e+00, 6.000e+00, 3.600e+01],\n",
       "       [1.000e+00, 6.100e+00, 3.721e+01],\n",
       "       [1.000e+00, 6.200e+00, 3.844e+01],\n",
       "       [1.000e+00, 6.300e+00, 3.969e+01],\n",
       "       [1.000e+00, 6.400e+00, 4.096e+01],\n",
       "       [1.000e+00, 6.500e+00, 4.225e+01],\n",
       "       [1.000e+00, 6.600e+00, 4.356e+01],\n",
       "       [1.000e+00, 6.700e+00, 4.489e+01],\n",
       "       [1.000e+00, 6.800e+00, 4.624e+01],\n",
       "       [1.000e+00, 6.900e+00, 4.761e+01],\n",
       "       [1.000e+00, 7.000e+00, 4.900e+01],\n",
       "       [1.000e+00, 7.100e+00, 5.041e+01],\n",
       "       [1.000e+00, 7.200e+00, 5.184e+01],\n",
       "       [1.000e+00, 7.300e+00, 5.329e+01],\n",
       "       [1.000e+00, 7.400e+00, 5.476e+01],\n",
       "       [1.000e+00, 7.500e+00, 5.625e+01],\n",
       "       [1.000e+00, 7.600e+00, 5.776e+01],\n",
       "       [1.000e+00, 7.700e+00, 5.929e+01],\n",
       "       [1.000e+00, 7.800e+00, 6.084e+01],\n",
       "       [1.000e+00, 7.900e+00, 6.241e+01],\n",
       "       [1.000e+00, 8.000e+00, 6.400e+01],\n",
       "       [1.000e+00, 8.100e+00, 6.561e+01],\n",
       "       [1.000e+00, 8.200e+00, 6.724e+01],\n",
       "       [1.000e+00, 8.300e+00, 6.889e+01],\n",
       "       [1.000e+00, 8.400e+00, 7.056e+01],\n",
       "       [1.000e+00, 8.500e+00, 7.225e+01],\n",
       "       [1.000e+00, 8.600e+00, 7.396e+01],\n",
       "       [1.000e+00, 8.700e+00, 7.569e+01],\n",
       "       [1.000e+00, 8.800e+00, 7.744e+01],\n",
       "       [1.000e+00, 8.900e+00, 7.921e+01],\n",
       "       [1.000e+00, 9.000e+00, 8.100e+01],\n",
       "       [1.000e+00, 9.100e+00, 8.281e+01],\n",
       "       [1.000e+00, 9.200e+00, 8.464e+01],\n",
       "       [1.000e+00, 9.300e+00, 8.649e+01],\n",
       "       [1.000e+00, 9.400e+00, 8.836e+01],\n",
       "       [1.000e+00, 9.500e+00, 9.025e+01],\n",
       "       [1.000e+00, 9.600e+00, 9.216e+01],\n",
       "       [1.000e+00, 9.700e+00, 9.409e+01],\n",
       "       [1.000e+00, 9.800e+00, 9.604e+01],\n",
       "       [1.000e+00, 9.900e+00, 9.801e+01]])"
      ]
     },
     "execution_count": 52,
     "metadata": {},
     "output_type": "execute_result"
    }
   ],
   "source": [
    "M"
   ]
  },
  {
   "cell_type": "code",
   "execution_count": 53,
   "metadata": {},
   "outputs": [
    {
     "data": {
      "text/plain": [
       "array([3.41953074, 3.99227075, 1.88892749])"
      ]
     },
     "execution_count": 53,
     "metadata": {},
     "output_type": "execute_result"
    }
   ],
   "source": [
    "res.params"
   ]
  },
  {
   "cell_type": "code",
   "execution_count": 54,
   "metadata": {},
   "outputs": [
    {
     "data": {
      "image/png": "[encoded data removed]",
      "text/plain": [
       "<Figure size 432x288 with 1 Axes>"
      ]
     },
     "metadata": {
      "needs_background": "light"
     },
     "output_type": "display_data"
    }
   ],
   "source": [
    "plt.scatter(x,y, label='Original')\n",
    "\n",
    "y2 = res.params[0] + res.params[1]*t + res.params[2]*t*t\n",
    "\n",
    "plt.plot(x,y2, label='Regressão', color='red')\n",
    "\n",
    "plt.grid()"
   ]
  },
  {
   "cell_type": "code",
   "execution_count": 55,
   "metadata": {},
   "outputs": [
    {
     "data": {
      "text/plain": [
       "0.8055773239984427"
      ]
     },
     "execution_count": 55,
     "metadata": {},
     "output_type": "execute_result"
    }
   ],
   "source": [
    "res.conf_int()[0][0]"
   ]
  },
  {
   "cell_type": "code",
   "execution_count": 56,
   "metadata": {},
   "outputs": [
    {
     "data": {
      "text/plain": [
       "<matplotlib.legend.Legend at 0x7f6994aebc90>"
      ]
     },
     "execution_count": 56,
     "metadata": {},
     "output_type": "execute_result"
    },
    {
     "data": {
      "image/png": "[encoded data removed]",
      "text/plain": [
       "<Figure size 432x288 with 1 Axes>"
      ]
     },
     "metadata": {
      "needs_background": "light"
     },
     "output_type": "display_data"
    }
   ],
   "source": [
    "plt.scatter(x,y, label='Original')\n",
    "\n",
    "y2 = res.params[0] + res.params[1]*t + res.params[2]*t*t\n",
    "\n",
    "plt.plot(x,y2, label='Regressão', color='red')\n",
    "\n",
    "plt.grid()\n",
    "\n",
    "yl = res.conf_int()[0][0] + res.conf_int()[1][0]*t + res.conf_int()[2][0]*t*t\n",
    "\n",
    "yp = res.conf_int()[0][1] + res.conf_int()[1][1]*t + res.conf_int()[2][1]*t*t\n",
    "\n",
    "plt.plot(x,yl, label='Intervalo de Confiança Menos', color='orange')\n",
    "\n",
    "plt.plot(x,yp, label='Intervalo de Confiança Mais', color='green')\n",
    "\n",
    "plt.legend()\n",
    "\n",
    "\n"
   ]
  },
  {
   "cell_type": "code",
   "execution_count": 57,
   "metadata": {},
   "outputs": [
    {
     "data": {
      "text/plain": [
       "2.7719629244237503"
      ]
     },
     "execution_count": 57,
     "metadata": {},
     "output_type": "execute_result"
    }
   ],
   "source": [
    "res.conf_int()[1][0]"
   ]
  },
  {
   "cell_type": "code",
   "execution_count": 58,
   "metadata": {},
   "outputs": [
    {
     "data": {
      "text/plain": [
       "6.0334841602034865"
      ]
     },
     "execution_count": 58,
     "metadata": {},
     "output_type": "execute_result"
    }
   ],
   "source": [
    "res.conf_int()[0][1]"
   ]
  },
  {
   "cell_type": "code",
   "execution_count": 59,
   "metadata": {},
   "outputs": [
    {
     "data": {
      "text/plain": [
       "array([[0.80557732, 6.03348416],\n",
       "       [2.77196292, 5.21257858],\n",
       "       [1.76965233, 2.00820264]])"
      ]
     },
     "execution_count": 59,
     "metadata": {},
     "output_type": "execute_result"
    }
   ],
   "source": [
    "res.conf_int()"
   ]
  },
  {
   "cell_type": "code",
   "execution_count": 60,
   "metadata": {},
   "outputs": [
    {
     "name": "stdout",
     "output_type": "stream",
     "text": [
      "Summary:\n",
      "                            OLS Regression Results                            \n",
      "==============================================================================\n",
      "Dep. Variable:                      y   R-squared:                       0.996\n",
      "Model:                            OLS   Adj. R-squared:                  0.996\n",
      "Method:                 Least Squares   F-statistic:                     7406.\n",
      "Date:                Fri, 17 Sep 2021   Prob (F-statistic):          2.05e-113\n",
      "Time:                        11:32:32   Log-Likelihood:                -290.15\n",
      "No. Observations:                 100   AIC:                             588.3\n",
      "Df Residuals:                      96   BIC:                             598.7\n",
      "Df Model:                           3                                         \n",
      "Covariance Type:            nonrobust                                         \n",
      "==============================================================================\n",
      "                 coef    std err          t      P>|t|      [0.025      0.975]\n",
      "------------------------------------------------------------------------------\n",
      "const          2.8268      1.733      1.632      0.106      -0.612       6.266\n",
      "x1             4.7293      1.523      3.105      0.003       1.706       7.753\n",
      "x2             1.7019      0.359      4.746      0.000       0.990       2.414\n",
      "x3             0.0126      0.024      0.529      0.598      -0.035       0.060\n",
      "==============================================================================\n",
      "Omnibus:                        1.065   Durbin-Watson:                   2.003\n",
      "Prob(Omnibus):                  0.587   Jarque-Bera (JB):                0.573\n",
      "Skew:                          -0.078   Prob(JB):                        0.751\n",
      "Kurtosis:                       3.337   Cond. No.                     1.87e+03\n",
      "==============================================================================\n",
      "\n",
      "Warnings:\n",
      "[1] Standard Errors assume that the covariance matrix of the errors is correctly specified.\n",
      "[2] The condition number is large, 1.87e+03. This might indicate that there are\n",
      "strong multicollinearity or other numerical problems.\n"
     ]
    }
   ],
   "source": [
    "print('Summary:')\n",
    "print(res2.summary())\n"
   ]
  },
  {
   "cell_type": "code",
   "execution_count": 63,
   "metadata": {},
   "outputs": [
    {
     "data": {
      "text/plain": [
       "<matplotlib.legend.Legend at 0x7f6994ab0310>"
      ]
     },
     "execution_count": 63,
     "metadata": {},
     "output_type": "execute_result"
    },
    {
     "data": {
      "image/png": "[encoded data removed]",
      "text/plain": [
       "<Figure size 432x288 with 1 Axes>"
      ]
     },
     "metadata": {
      "needs_background": "light"
     },
     "output_type": "display_data"
    }
   ],
   "source": [
    "plt.scatter(x,y, label='Original')\n",
    "\n",
    "y2 = res2.params[0] + res2.params[1]*t + res2.params[2]*t*t\n",
    "\n",
    "plt.plot(x,y2, label='Regressão', color='red')\n",
    "\n",
    "plt.grid()\n",
    "\n",
    "yl = res2.conf_int()[0][0] + res2.conf_int()[1][0]*t + res2.conf_int()[2][0]*t*t\n",
    "\n",
    "yp = res2.conf_int()[0][1] + res2.conf_int()[1][1]*t + res2.conf_int()[2][1]*t*t\n",
    "\n",
    "plt.plot(x,yl, label='Intervalo de Confiança Menos', color='orange')\n",
    "\n",
    "plt.plot(x,yp, label='Intervalo de Confiança Mais', color='green')\n",
    "\n",
    "plt.legend()"
   ]
  },
  {
   "cell_type": "markdown",
   "metadata": {},
   "source": [
    "# Exercises"
   ]
  },
  {
   "cell_type": "code",
   "execution_count": 64,
   "metadata": {},
   "outputs": [],
   "source": [
    "xls = pd.ExcelFile('AvgTemp.xls')"
   ]
  },
  {
   "cell_type": "code",
   "execution_count": 67,
   "metadata": {},
   "outputs": [],
   "source": [
    "data = xls.parse('Tabelle1')"
   ]
  },
  {
   "cell_type": "code",
   "execution_count": 68,
   "metadata": {},
   "outputs": [
    {
     "data": {
      "text/html": [
       "<div>\n",
       "<style scoped>\n",
       "    .dataframe tbody tr th:only-of-type {\n",
       "        vertical-align: middle;\n",
       "    }\n",
       "\n",
       "    .dataframe tbody tr th {\n",
       "        vertical-align: top;\n",
       "    }\n",
       "\n",
       "    .dataframe thead th {\n",
       "        text-align: right;\n",
       "    }\n",
       "</style>\n",
       "<table border=\"1\" class=\"dataframe\">\n",
       "  <thead>\n",
       "    <tr style=\"text-align: right;\">\n",
       "      <th></th>\n",
       "      <th>year</th>\n",
       "      <th>AvgTmp</th>\n",
       "    </tr>\n",
       "  </thead>\n",
       "  <tbody>\n",
       "    <tr>\n",
       "      <th>0</th>\n",
       "      <td>1887</td>\n",
       "      <td>-7.5</td>\n",
       "    </tr>\n",
       "    <tr>\n",
       "      <th>1</th>\n",
       "      <td>1888</td>\n",
       "      <td>-6.8</td>\n",
       "    </tr>\n",
       "    <tr>\n",
       "      <th>2</th>\n",
       "      <td>1889</td>\n",
       "      <td>-7.1</td>\n",
       "    </tr>\n",
       "    <tr>\n",
       "      <th>3</th>\n",
       "      <td>1890</td>\n",
       "      <td>-7.0</td>\n",
       "    </tr>\n",
       "    <tr>\n",
       "      <th>4</th>\n",
       "      <td>1891</td>\n",
       "      <td>-6.7</td>\n",
       "    </tr>\n",
       "  </tbody>\n",
       "</table>\n",
       "</div>"
      ],
      "text/plain": [
       "   year  AvgTmp\n",
       "0  1887    -7.5\n",
       "1  1888    -6.8\n",
       "2  1889    -7.1\n",
       "3  1890    -7.0\n",
       "4  1891    -6.7"
      ]
     },
     "execution_count": 68,
     "metadata": {},
     "output_type": "execute_result"
    }
   ],
   "source": [
    "data.head()"
   ]
  },
  {
   "cell_type": "code",
   "execution_count": 70,
   "metadata": {},
   "outputs": [
    {
     "data": {
      "image/png": "[encoded data removed]",
      "text/plain": [
       "<Figure size 432x288 with 1 Axes>"
      ]
     },
     "metadata": {
      "needs_background": "light"
     },
     "output_type": "display_data"
    }
   ],
   "source": [
    "plt.scatter(data.year, data.AvgTmp)\n",
    "plt.grid()"
   ]
  },
  {
   "cell_type": "code",
   "execution_count": 71,
   "metadata": {},
   "outputs": [
    {
     "name": "stdout",
     "output_type": "stream",
     "text": [
      "Pearson: 0.6388445026294712\n",
      "Spearman: 0.6289457851537718\n",
      "Kendall tau: 0.4591828926737606\n"
     ]
    }
   ],
   "source": [
    "pearson = data['year'].corr(data['AvgTmp'], method = 'pearson') \n",
    "spearman = data['year'].corr(data['AvgTmp'], method = 'spearman') \n",
    "tau = data['year'].corr(data['AvgTmp'], method = 'kendall') \n",
    "    \n",
    "print(f'Pearson: {pearson}')\n",
    "print(f'Spearman: {spearman}')\n",
    "print(f'Kendall tau: {tau}')"
   ]
  },
  {
   "cell_type": "code",
   "execution_count": 76,
   "metadata": {},
   "outputs": [
    {
     "data": {
      "image/png": "[encoded data removed]",
      "text/plain": [
       "<Figure size 432x288 with 1 Axes>"
      ]
     },
     "metadata": {
      "needs_background": "light"
     },
     "output_type": "display_data"
    },
    {
     "name": "stdout",
     "output_type": "stream",
     "text": [
      "p-valor: 0.400844167748088\n"
     ]
    }
   ],
   "source": [
    "\n",
    "model = sm.ols('AvgTmp ~ year', data)\n",
    "results = model.fit()\n",
    "    \n",
    "res_data = results.resid    # Get the values for the residuals\n",
    "    \n",
    "stats.probplot(res_data, plot=plt)\n",
    "plt.grid()\n",
    "plt.show()\n",
    "    \n",
    "_, pVal = stats.normaltest(res_data)\n",
    "\n",
    "print(f'p-valor: {pVal}')"
   ]
  },
  {
   "cell_type": "code",
   "execution_count": 79,
   "metadata": {},
   "outputs": [
    {
     "data": {
      "image/png": "[encoded data removed]",
      "text/plain": [
       "<Figure size 432x288 with 1 Axes>"
      ]
     },
     "metadata": {
      "needs_background": "light"
     },
     "output_type": "display_data"
    }
   ],
   "source": [
    "sns.kdeplot(res_data)\n",
    "plt.grid()"
   ]
  },
  {
   "cell_type": "code",
   "execution_count": 81,
   "metadata": {},
   "outputs": [
    {
     "name": "stdout",
     "output_type": "stream",
     "text": [
      "                            OLS Regression Results                            \n",
      "==============================================================================\n",
      "Dep. Variable:                 AvgTmp   R-squared:                       0.408\n",
      "Model:                            OLS   Adj. R-squared:                  0.403\n",
      "Method:                 Least Squares   F-statistic:                     82.74\n",
      "Date:                Sat, 18 Sep 2021   Prob (F-statistic):           2.43e-15\n",
      "Time:                        07:52:19   Log-Likelihood:                -109.46\n",
      "No. Observations:                 122   AIC:                             222.9\n",
      "Df Residuals:                     120   BIC:                             228.5\n",
      "Df Model:                           1                                         \n",
      "Covariance Type:            nonrobust                                         \n",
      "==============================================================================\n",
      "                 coef    std err          t      P>|t|      [0.025      0.975]\n",
      "------------------------------------------------------------------------------\n",
      "Intercept    -33.1840      2.996    -11.074      0.000     -39.117     -27.251\n",
      "year           0.0140      0.002      9.096      0.000       0.011       0.017\n",
      "==============================================================================\n",
      "Omnibus:                        1.828   Durbin-Watson:                   1.876\n",
      "Prob(Omnibus):                  0.401   Jarque-Bera (JB):                1.510\n",
      "Skew:                          -0.109   Prob(JB):                        0.470\n",
      "Kurtosis:                       2.500   Cond. No.                     1.08e+05\n",
      "==============================================================================\n",
      "\n",
      "Warnings:\n",
      "[1] Standard Errors assume that the covariance matrix of the errors is correctly specified.\n",
      "[2] The condition number is large, 1.08e+05. This might indicate that there are\n",
      "strong multicollinearity or other numerical problems.\n"
     ]
    },
    {
     "name": "stderr",
     "output_type": "stream",
     "text": [
      "/home/rafaelpavan95/anaconda3/lib/python3.7/site-packages/seaborn/_decorators.py:43: FutureWarning: Pass the following variables as keyword args: x, y, data. From version 0.12, the only valid positional argument will be `data`, and passing other arguments without an explicit keyword will result in an error or misinterpretation.\n",
      "  FutureWarning\n"
     ]
    },
    {
     "data": {
      "image/png": "[encoded data removed]",
      "text/plain": [
       "<Figure size 360x360 with 1 Axes>"
      ]
     },
     "metadata": {
      "needs_background": "light"
     },
     "output_type": "display_data"
    }
   ],
   "source": [
    "model = sm.ols('AvgTmp ~ year', data)\n",
    "results = model.fit()\n",
    "print(results.summary())\n",
    "    \n",
    "sns.lmplot('year', 'AvgTmp', data)\n",
    "plt.show()"
   ]
  },
  {
   "cell_type": "code",
   "execution_count": 82,
   "metadata": {},
   "outputs": [
    {
     "name": "stdout",
     "output_type": "stream",
     "text": [
      "                   0          1\n",
      "Intercept -39.116796 -27.251122\n",
      "year        0.010948   0.017040\n"
     ]
    }
   ],
   "source": [
    "ci = results.conf_int()\n",
    "    \n",
    "print(ci)"
   ]
  }
 ],
 "metadata": {
  "kernelspec": {
   "display_name": "Python 3",
   "language": "python",
   "name": "python3"
  },
  "language_info": {
   "codemirror_mode": {
    "name": "ipython",
    "version": 3
   },
   "file_extension": ".py",
   "mimetype": "text/x-python",
   "name": "python",
   "nbconvert_exporter": "python",
   "pygments_lexer": "ipython3",
   "version": "3.7.6"
  }
 },
 "nbformat": 4,
 "nbformat_minor": 4
}
