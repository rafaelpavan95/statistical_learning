{
 "cells": [
  {
   "cell_type": "markdown",
   "metadata": {},
   "source": [
    "# Guia de Testes de Hipóteses\n",
    "\n",
    "Rafael Pavan"
   ]
  },
  {
   "cell_type": "markdown",
   "metadata": {},
   "source": [
    "Neste guia, iremos aprender e aplicar os seguintes testes de hipóteses:\n",
    "    \n",
    "   - Teste-T para uma Amostra\n",
    "   - Wilcoxon para uma Amostra\n",
    "   - Teste-T Paramétrico\n",
    "   - Teste de Mann-Whitney\n",
    "   - Teste-T Não Paramétrico\n",
    "   - Teste ANOVA\n",
    "   - Teste ANOVA - 2WAY"
   ]
  },
  {
   "cell_type": "markdown",
   "metadata": {},
   "source": [
    "## 1. Interpretação do P-Value\n",
    "\n",
    "O p-value apenas indica a chance de se obter um valor igualmente raro ou mais raro que um determinado valor de referência. O nível de significância é de escolha do usuário, geralmente adotado como sendo 0.05. \n",
    "\n",
    "- Rejeita Hipótese Nula de que Não Há Significância (pvalue < 0.05)\n",
    "\n",
    "- Rejeita Hipótese Alternativa de que Há Significância (pvalue > 0.05) "
   ]
  },
  {
   "cell_type": "markdown",
   "metadata": {},
   "source": [
    "## 2. Teste-T para uma Amostra\n",
    "\n",
    "Objetivo: Checar o valor médio de uma amostra de dados em relação a um valor de referência.\n",
    "\n",
    "Premissas: \n",
    "\n",
    "   - Os dados devem ser normalmente distribuídos.\n",
    "   "
   ]
  },
  {
   "cell_type": "code",
   "execution_count": 1,
   "metadata": {},
   "outputs": [],
   "source": [
    "import numpy as np\n",
    "import matplotlib.pyplot as plt\n",
    "import scipy.stats as stats\n",
    "import seaborn as sns\n",
    "\n",
    "def check_normal(data):\n",
    "    \n",
    "    _ = stats.probplot(data, plot=plt)\n",
    "    plt.grid()\n",
    "    \n",
    "    \n",
    "    _, pVal = stats.normaltest(data)\n",
    "\n",
    "    if pVal > 0.05:\n",
    "        \n",
    "        print(f'Podemos assumir que a distribuição dos dados é normal. P-value: {pVal} ')\n",
    "        \n",
    "    else:\n",
    "        \n",
    "        \n",
    "        print(f'Não Podemos assumir que a distribuição dos dados é normal. P-value: {pVal} ')\n",
    "        \n",
    "\n",
    "# https://docs.scipy.org/doc/scipy/reference/generated/scipy.stats.ttest_1samp.html\n",
    "    "
   ]
  },
  {
   "cell_type": "markdown",
   "metadata": {},
   "source": [
    "### Exemplo"
   ]
  },
  {
   "cell_type": "markdown",
   "metadata": {},
   "source": [
    "Se coletarmos 400 dados normalmente distribuídos de uma população, sendo que os dados coletados apresentam média 7.0, desvio padrão 1.12 e desvio padrão da média  de 0.312, qual a chance de que a média real tenha valor de 6.8? E 2?"
   ]
  },
  {
   "cell_type": "code",
   "execution_count": 2,
   "metadata": {},
   "outputs": [
    {
     "name": "stdout",
     "output_type": "stream",
     "text": [
      "Podemos assumir que a distribuição dos dados é normal. P-value: 0.748456351796024 \n"
     ]
    },
    {
     "data": {
      "image/png": "[encoded data removed]",
      "text/plain": [
       "<Figure size 432x288 with 1 Axes>"
      ]
     },
     "metadata": {
      "needs_background": "light"
     },
     "output_type": "display_data"
    }
   ],
   "source": [
    "amostra = np.random.normal(7.0, 4.5, 400)\n",
    "check_normal(amostra)\n"
   ]
  },
  {
   "cell_type": "markdown",
   "metadata": {},
   "source": [
    "O observador sabe que a distribuição das médias das amostras segue uma distribuição T, e que o SEM caracteriza a largura da distribuição"
   ]
  },
  {
   "cell_type": "code",
   "execution_count": 3,
   "metadata": {},
   "outputs": [],
   "source": [
    "t, pVal2 = stats.ttest_1samp(amostra,6.9,alternative='two-sided')\n",
    "t, pValless = stats.ttest_1samp(amostra,6.9,alternative='less')\n",
    "t, pValgreater = stats.ttest_1samp(amostra,6.9,alternative='greater')\n",
    "# This is a two-sided test for the null hypothesis that the expected value (mean) of a sample of independent observations a is equal to the given population mean, popmean."
   ]
  },
  {
   "cell_type": "code",
   "execution_count": 4,
   "metadata": {},
   "outputs": [
    {
     "name": "stdout",
     "output_type": "stream",
     "text": [
      "P-value para o teste two-sided (h0: 6.9 não é diferente da média da população): 0.13637397726386102\n"
     ]
    }
   ],
   "source": [
    "print(f'P-value para o teste two-sided (h0: {6.9} não é diferente da média da população): {pVal2}')"
   ]
  },
  {
   "cell_type": "markdown",
   "metadata": {},
   "source": [
    "O valor P é maior que 0.05 e indica forte evidência para a hipótese nula que assume não haver diferença significativa entre a média da população e o valor desejado."
   ]
  },
  {
   "cell_type": "code",
   "execution_count": 5,
   "metadata": {},
   "outputs": [],
   "source": [
    "t, pVal2 = stats.ttest_1samp(amostra,2,alternative='two-sided')\n",
    "t, pValless = stats.ttest_1samp(amostra,2,alternative='less')\n",
    "t, pValgreater = stats.ttest_1samp(amostra,2,alternative='greater')\n",
    "# This is a two-sided test for the null hypothesis that the expected value (mean) of a sample of independent observations a is equal to the given population mean, popmean."
   ]
  },
  {
   "cell_type": "code",
   "execution_count": 6,
   "metadata": {},
   "outputs": [
    {
     "name": "stdout",
     "output_type": "stream",
     "text": [
      "P-value para o teste two-sided (h0: 2 não é diferente da média da população): 1.9055691516531825e-72\n",
      "P-value para o teste one-sided (h0: média da população não é < 2): 1.0\n",
      "P-value para o teste one-sided (h0: média da população não é > 2): 9.527845758265912e-73\n"
     ]
    }
   ],
   "source": [
    "print(f'P-value para o teste two-sided (h0: {2} não é diferente da média da população): {pVal2}')\n",
    "print(f'P-value para o teste one-sided (h0: média da população não é < 2): {pValless}')\n",
    "print(f'P-value para o teste one-sided (h0: média da população não é > 2): {pValgreater}')"
   ]
  },
  {
   "cell_type": "markdown",
   "metadata": {},
   "source": [
    "O valor P é menor que 0.05 e indica forte evidência para a hipótese alternativa que assume que há diferença significativa entre a média da população e o valor desejado. No caso, 2 é menor que a média da população."
   ]
  },
  {
   "cell_type": "markdown",
   "metadata": {},
   "source": [
    "## 3. Wilcoxon para uma Amostra\n",
    "\n",
    "Objetivo: Checar o valor médio de uma amostra de dados em relação a um valor de referência.\n",
    "\n",
    "Premissas: \n",
    "\n",
    "   - Os dados não são normalmente distribuídos "
   ]
  },
  {
   "cell_type": "code",
   "execution_count": 7,
   "metadata": {},
   "outputs": [
    {
     "name": "stdout",
     "output_type": "stream",
     "text": [
      "Não Podemos assumir que a distribuição dos dados é normal. P-value: 3.5595667644028286e-55 \n"
     ]
    },
    {
     "data": {
      "text/plain": [
       "0.49903353090405733"
      ]
     },
     "execution_count": 7,
     "metadata": {},
     "output_type": "execute_result"
    },
    {
     "data": {
      "image/png": "[encoded data removed]",
      "text/plain": [
       "<Figure size 432x288 with 1 Axes>"
      ]
     },
     "metadata": {
      "needs_background": "light"
     },
     "output_type": "display_data"
    }
   ],
   "source": [
    "amostra = np.random.rand(500)\n",
    "check_normal(amostra)\n",
    "np.mean(amostra)"
   ]
  },
  {
   "cell_type": "code",
   "execution_count": 8,
   "metadata": {},
   "outputs": [
    {
     "data": {
      "image/png": "[encoded data removed]",
      "text/plain": [
       "<Figure size 432x288 with 1 Axes>"
      ]
     },
     "metadata": {
      "needs_background": "light"
     },
     "output_type": "display_data"
    }
   ],
   "source": [
    "plt.hist(amostra,bins=20)\n",
    "plt.show()"
   ]
  },
  {
   "cell_type": "markdown",
   "metadata": {},
   "source": [
    "O teste analisa se a distribuição dos dados subtraídos do valor desejado é simétrica em torno de 0. Vamos testar para os casos de valores 2 e 0.5. Os dados da amostra variam uniformemente de 0 a 1."
   ]
  },
  {
   "cell_type": "markdown",
   "metadata": {},
   "source": [
    "### Exemplo"
   ]
  },
  {
   "cell_type": "code",
   "execution_count": 9,
   "metadata": {},
   "outputs": [],
   "source": [
    "t, pVal2 = stats.wilcoxon(amostra-2,alternative='two-sided')\n",
    "t, pValless = stats.wilcoxon(amostra-2,alternative='less')\n",
    "t, pValgreater = stats.wilcoxon(amostra-2,alternative='greater')\n",
    "# This is a two-sided test for the null hypothesis that the expected value (mean) of a sample of independent observations a is equal to the given population mean, popmean.\n",
    "# The Wilcoxon signed-rank test tests the null hypothesis that two related paired samples come from the same distribution. In particular, it tests whether the distribution of the differences x - y is symmetric about zero. It is a non-parametric version of the paired T-test."
   ]
  },
  {
   "cell_type": "code",
   "execution_count": 10,
   "metadata": {},
   "outputs": [
    {
     "name": "stdout",
     "output_type": "stream",
     "text": [
      "P-value para o teste two-sided (h0: 2 não é diferente da média da população): 1.2647189486921487e-83\n",
      "P-value para o teste one-sided (h0: a média da população não é < que 2): 6.323594743460744e-84\n",
      "P-value para o teste one-sided (h0: a média da população não é > que 2): 1.0\n"
     ]
    }
   ],
   "source": [
    "print(f'P-value para o teste two-sided (h0: {2} não é diferente da média da população): {pVal2}')\n",
    "print(f'P-value para o teste one-sided (h0: a média da população não é < que {2}): {pValless}')\n",
    "print(f'P-value para o teste one-sided (h0: a média da população não é > que {2}): {pValgreater}')"
   ]
  },
  {
   "cell_type": "markdown",
   "metadata": {},
   "source": [
    "Rejeitamos a hipótese nula, é diferente (pvalue <0.05) com evidência de 2 ser maior que a média da população."
   ]
  },
  {
   "cell_type": "code",
   "execution_count": 11,
   "metadata": {},
   "outputs": [],
   "source": [
    "t, pVal2 = stats.wilcoxon(amostra-0.5,alternative='two-sided')\n",
    "t, pValless = stats.wilcoxon(amostra-0.5,alternative='less')\n",
    "t, pValgreater = stats.wilcoxon(amostra-0.5,alternative='greater')\n",
    "# This is a two-sided test for the null hypothesis that the expected value (mean) of a sample of independent observations a is equal to the given population mean, popmean.\n",
    "# The Wilcoxon signed-rank test tests the null hypothesis that two related paired samples come from the same distribution. In particular, it tests whether the distribution of the differences x - y is symmetric about zero. It is a non-parametric version of the paired T-test.\n",
    "\n",
    "# The Wilcoxon signed-rank test tests the null hypothesis that two related paired samples come from the same distribution. In particular, it tests whether the distribution of the differences x - y is symmetric about zero. It is a non-parametric version of the paired T-test."
   ]
  },
  {
   "cell_type": "code",
   "execution_count": 12,
   "metadata": {},
   "outputs": [
    {
     "name": "stdout",
     "output_type": "stream",
     "text": [
      "P-value para o teste two-sided (h0: 0.5 não é diferente da média da população): 0.949184279755131\n",
      "P-value para o teste one-sided (h0: a média da população não é < que 0.5: 0.4745921398775655\n",
      "P-value para o teste one-sided (h0:a média da população não é > que 0.5): 0.5254078601224345\n"
     ]
    }
   ],
   "source": [
    "print(f'P-value para o teste two-sided (h0: {0.5} não é diferente da média da população): {pVal2}')\n",
    "print(f'P-value para o teste one-sided (h0: a média da população não é < que {0.5}: {pValless}')\n",
    "print(f'P-value para o teste one-sided (h0:a média da população não é > que {0.5}): {pValgreater}')"
   ]
  },
  {
   "cell_type": "markdown",
   "metadata": {},
   "source": [
    "Rejeitamos a hipótese alternativa, não é diferente (pvalue >0.05) com evidência de 0.5 não ser diferente da média da população."
   ]
  },
  {
   "cell_type": "markdown",
   "metadata": {},
   "source": [
    "## 4. T-Test Paramétrico\n",
    "\n",
    "Objetivo: Checar o valor médio de uma amostra de dados em relação a um valor médio de outra amostra de dados.\n",
    "\n",
    "Premissas: \n",
    "\n",
    "    - Os dados são normalmente distribuídos \n",
    "    - Os dados são da mesma população em tempos distintos "
   ]
  },
  {
   "cell_type": "markdown",
   "metadata": {},
   "source": [
    "### Exemplo\n",
    "\n",
    "Foram registradas as alturas de um grupo de estudantes no ano de 2010. Em 2015, os mesmos estudantes tiveram suas alturas registradas.\n",
    "\n",
    "Há evidências de que não houve crescimento dos estudantes entre os anos de 2010 e 2015?"
   ]
  },
  {
   "cell_type": "code",
   "execution_count": 13,
   "metadata": {},
   "outputs": [],
   "source": [
    "amostra1 = np.random.normal(1.60,0.08,25)\n",
    "amostra2 = amostra1 + np.random.normal(0.035,0.005,25)"
   ]
  },
  {
   "cell_type": "code",
   "execution_count": 14,
   "metadata": {},
   "outputs": [
    {
     "data": {
      "text/plain": [
       "<matplotlib.axes._subplots.AxesSubplot at 0x7f93bd386590>"
      ]
     },
     "execution_count": 14,
     "metadata": {},
     "output_type": "execute_result"
    },
    {
     "data": {
      "image/png": "[encoded data removed]",
      "text/plain": [
       "<Figure size 432x288 with 1 Axes>"
      ]
     },
     "metadata": {
      "needs_background": "light"
     },
     "output_type": "display_data"
    }
   ],
   "source": [
    "sns.kdeplot(amostra1)\n",
    "sns.kdeplot(amostra2)"
   ]
  },
  {
   "cell_type": "code",
   "execution_count": 15,
   "metadata": {},
   "outputs": [
    {
     "data": {
      "text/plain": [
       "<matplotlib.legend.Legend at 0x7f93bd3095d0>"
      ]
     },
     "execution_count": 15,
     "metadata": {},
     "output_type": "execute_result"
    },
    {
     "data": {
      "image/png": "[encoded data removed]",
      "text/plain": [
       "<Figure size 432x288 with 1 Axes>"
      ]
     },
     "metadata": {
      "needs_background": "light"
     },
     "output_type": "display_data"
    }
   ],
   "source": [
    "plt.scatter(np.arange(0,len(amostra1),1),amostra1, label='Altura de um grupo de adolescentes em 2010')\n",
    "plt.scatter(np.arange(0,len(amostra1),1),amostra2, label='Altura de um grupo de adolescentes em 2015')\n",
    "plt.grid()\n",
    "plt.legend()"
   ]
  },
  {
   "cell_type": "code",
   "execution_count": 16,
   "metadata": {},
   "outputs": [],
   "source": [
    "_, pVal = stats.ttest_rel(amostra1,amostra2)\n",
    "\n",
    "_, pValless = stats.ttest_rel(amostra1,amostra2,alternative='less')\n",
    "\n",
    "_, pValgreater = stats.ttest_rel(amostra1,amostra2,alternative='greater')\n",
    "\n",
    "\n",
    "#This is a two-sided test for the null hypothesis that 2 related or repeated samples have identical average (expected) values."
   ]
  },
  {
   "cell_type": "code",
   "execution_count": 17,
   "metadata": {},
   "outputs": [
    {
     "name": "stdout",
     "output_type": "stream",
     "text": [
      "P-value para o teste two-sided (h0: não é diferente): 1.3692179049400965e-22\n",
      "P-value para o teste one-sided (h0: a média de a1 não é < que a média de a2): 6.846089524700483e-23\n",
      "P-value para o teste one-sided (h0: a média de a1 não é > que a média de a2): 1.0\n"
     ]
    }
   ],
   "source": [
    "print(f'P-value para o teste two-sided (h0: não é diferente): {pVal}')\n",
    "print(f'P-value para o teste one-sided (h0: a média de a1 não é < que a média de a2): {pValless}')\n",
    "print(f'P-value para o teste one-sided (h0: a média de a1 não é > que a média de a2): {pValgreater}')"
   ]
  },
  {
   "cell_type": "markdown",
   "metadata": {},
   "source": [
    "Há evidências para rejeitar a hipótese nula, ou seja, há evidências de que as médias das amostras são diferentes, sendo que a amostra 1 tem evidências de ter média menor que a amostra 2."
   ]
  },
  {
   "cell_type": "markdown",
   "metadata": {},
   "source": [
    "## 4. T-Test Grupos Independentes\n",
    "\n",
    "Objetivo: Checar o valor médio de uma amostra de dados em relação a um valor médio de outra amostra de dados.\n",
    "\n",
    "Premissas: \n",
    "\n",
    "    - Os dados são normalmente distribuídos \n",
    "    - Os dados são de diferentes populações"
   ]
  },
  {
   "cell_type": "markdown",
   "metadata": {},
   "source": [
    "### Exemplo"
   ]
  },
  {
   "cell_type": "markdown",
   "metadata": {},
   "source": [
    "Queremos saber entre duas fábricas, se há diferença na eficiência do processo de produção. Para isso, registramos o (número total de peças - número de peças defeituosas)/número total de peças produzidas diariamente em um intervalo de um ano em ambas as empresas."
   ]
  },
  {
   "cell_type": "code",
   "execution_count": 18,
   "metadata": {},
   "outputs": [],
   "source": [
    "fabrica1 = np.random.normal(0.7,0.07,365)"
   ]
  },
  {
   "cell_type": "code",
   "execution_count": 19,
   "metadata": {},
   "outputs": [
    {
     "name": "stdout",
     "output_type": "stream",
     "text": [
      "Podemos assumir que a distribuição dos dados é normal. P-value: 0.41245582750548604 \n"
     ]
    },
    {
     "data": {
      "image/png": "[encoded data removed]",
      "text/plain": [
       "<Figure size 432x288 with 1 Axes>"
      ]
     },
     "metadata": {
      "needs_background": "light"
     },
     "output_type": "display_data"
    }
   ],
   "source": [
    "check_normal(fabrica1)"
   ]
  },
  {
   "cell_type": "code",
   "execution_count": 20,
   "metadata": {},
   "outputs": [
    {
     "name": "stdout",
     "output_type": "stream",
     "text": [
      "Podemos assumir que a distribuição dos dados é normal. P-value: 0.34747386146916115 \n"
     ]
    },
    {
     "data": {
      "image/png": "[encoded data removed]",
      "text/plain": [
       "<Figure size 432x288 with 1 Axes>"
      ]
     },
     "metadata": {
      "needs_background": "light"
     },
     "output_type": "display_data"
    }
   ],
   "source": [
    "fabrica2 = np.random.normal(0.6,0.09,365)\n",
    "check_normal(fabrica2)"
   ]
  },
  {
   "cell_type": "code",
   "execution_count": 21,
   "metadata": {},
   "outputs": [
    {
     "name": "stdout",
     "output_type": "stream",
     "text": [
      "Fábrica 1 Média da Eficiência 0.6961105248425982\n",
      "Fábrica 2 Média da Eficiência 0.6019345133503969\n"
     ]
    },
    {
     "data": {
      "image/png": "[encoded data removed]",
      "text/plain": [
       "<Figure size 432x288 with 1 Axes>"
      ]
     },
     "metadata": {
      "needs_background": "light"
     },
     "output_type": "display_data"
    }
   ],
   "source": [
    "sns.kdeplot(fabrica1)\n",
    "sns.kdeplot(fabrica2)\n",
    "\n",
    "print('Fábrica 1 Média da Eficiência', np.mean(fabrica1))\n",
    "\n",
    "print('Fábrica 2 Média da Eficiência', np.mean(fabrica2))"
   ]
  },
  {
   "cell_type": "markdown",
   "metadata": {},
   "source": [
    "Pelo plot de densidade observamos que a fábrica 1 possui maior eficiência média que a fábrica 2, aparentemente. Vamos realizar o teste de hipótese."
   ]
  },
  {
   "cell_type": "code",
   "execution_count": 22,
   "metadata": {},
   "outputs": [],
   "source": [
    "_, pVal = stats.ttest_ind(fabrica1,fabrica2)\n",
    "\n",
    "_, pValless = stats.ttest_ind(fabrica1,fabrica2,alternative='less')\n",
    "\n",
    "_, pValgreater = stats.ttest_ind(fabrica1,fabrica2,alternative='greater')\n",
    "\n",
    "#This is a two-sided test for the null hypothesis that 2 independent samples have identical average (expected) values. This test assumes that the populations have identical variances by default."
   ]
  },
  {
   "cell_type": "code",
   "execution_count": 23,
   "metadata": {},
   "outputs": [
    {
     "name": "stdout",
     "output_type": "stream",
     "text": [
      "P-value para o teste two-sided (h0: não é diferente): 2.3266801597906284e-50\n",
      "P-value para o teste one-sided (h0: a média de f1 não é < que a média de f2): 1.0\n",
      "P-value para o teste one-sided (h0: a média de f1 não é > que a média de f2): 1.1633400798953142e-50\n"
     ]
    }
   ],
   "source": [
    "print(f'P-value para o teste two-sided (h0: não é diferente): {pVal}')\n",
    "print(f'P-value para o teste one-sided (h0: a média de f1 não é < que a média de f2): {pValless}')\n",
    "print(f'P-value para o teste one-sided (h0: a média de f1 não é > que a média de f2): {pValgreater}')"
   ]
  },
  {
   "cell_type": "markdown",
   "metadata": {},
   "source": [
    "Como pvalor < 0.05, rejeitamos a hipótese nula de que não há diferença entre as médias. Como o p-valor<0.05 para o teste 'greater', há evidências de que as eficiências são diferentes, sendo que a fábrica 1 possui eficiência maior que fábrica 2."
   ]
  },
  {
   "cell_type": "markdown",
   "metadata": {},
   "source": [
    "## 5. Teste Mann-Whitney \n",
    "\n",
    "Objetivo: Checar o valor médio de uma amostra de dados em relação a um valor médio de outra amostra de dados.\n",
    "\n",
    "Premissas: \n",
    "\n",
    "    - Os dados não são normalmente distribuídos \n",
    "    - Os dados são de diferentes populações"
   ]
  },
  {
   "cell_type": "code",
   "execution_count": 24,
   "metadata": {},
   "outputs": [],
   "source": [
    "grupo1 = np.random.uniform(0,1,100)\n",
    "grupo2 = np.random.uniform(0.7,1.5,100)"
   ]
  },
  {
   "cell_type": "code",
   "execution_count": 25,
   "metadata": {},
   "outputs": [],
   "source": [
    "u, pVal = stats.mannwhitneyu(grupo1,grupo2)\n",
    "u, pValless = stats.mannwhitneyu(grupo1,grupo2,alternative='less')\n",
    "u, pValgreater = stats.mannwhitneyu(grupo1,grupo2,alternative='greater')"
   ]
  },
  {
   "cell_type": "code",
   "execution_count": 26,
   "metadata": {},
   "outputs": [
    {
     "name": "stdout",
     "output_type": "stream",
     "text": [
      "P-value para o teste two-sided (h0: não é diferente): 3.2762916985821033e-25\n",
      "P-value para o teste one-sided (h0: a média de g1 não é < que a média de g2): 1.6381458492910517e-25\n",
      "P-value para o teste one-sided (h0: a média de g1 não é > que a média de g2): 1.0\n"
     ]
    }
   ],
   "source": [
    "print(f'P-value para o teste two-sided (h0: não é diferente): {pVal}')\n",
    "print(f'P-value para o teste one-sided (h0: a média de g1 não é < que a média de g2): {pValless}')\n",
    "print(f'P-value para o teste one-sided (h0: a média de g1 não é > que a média de g2): {pValgreater}')"
   ]
  },
  {
   "cell_type": "markdown",
   "metadata": {},
   "source": [
    "## 6. Teste ANOVA \n",
    "\n",
    "Objetivo: Checar se os grupos vem de uma mesma distribuição;\n",
    "    \n",
    "Premissas: \n",
    "\n",
    "    - Os dados são de populações normalmente distribuídas de igual variância \n"
   ]
  },
  {
   "cell_type": "code",
   "execution_count": 27,
   "metadata": {},
   "outputs": [],
   "source": [
    "# \n",
    "\n",
    "#        ‘median’ : Recommended for skewed (non-normal) distributions>\n",
    "\n",
    "#        ‘mean’ : Recommended for symmetric, moderate-tailed distributions.\n",
    "\n",
    "#        ‘trimmed’ : Recommended for heavy-tailed distributions.\n",
    "\n",
    "# The test version using the mean was proposed in the original article of Levene ([2]) while the median and trimmed mean have been studied by Brown and Forsythe ([3]), sometimes also referred to as Brown-Forsythe test.\n",
    "\n",
    "# The Levene test tests the null hypothesis that all input samples are from populations with equal variances. Levene’s test is an alternative to Bartlett’s test bartlett in the case where there are significant deviations from normality."
   ]
  },
  {
   "cell_type": "code",
   "execution_count": 28,
   "metadata": {},
   "outputs": [],
   "source": [
    "grupo1 = np.random.normal(3.8,0.55,100)\n",
    "\n",
    "grupo2 = np.random.normal(4,0.48,100)\n",
    "\n",
    "grupo3 = np.random.normal(4.2,0.5,100)"
   ]
  },
  {
   "cell_type": "code",
   "execution_count": 29,
   "metadata": {},
   "outputs": [
    {
     "data": {
      "text/plain": [
       "<matplotlib.axes._subplots.AxesSubplot at 0x7f93bd1ea2d0>"
      ]
     },
     "execution_count": 29,
     "metadata": {},
     "output_type": "execute_result"
    },
    {
     "data": {
      "image/png": "[encoded data removed]",
      "text/plain": [
       "<Figure size 432x288 with 1 Axes>"
      ]
     },
     "metadata": {
      "needs_background": "light"
     },
     "output_type": "display_data"
    }
   ],
   "source": [
    "sns.kdeplot(grupo1)\n",
    "sns.kdeplot(grupo2)\n",
    "sns.kdeplot(grupo3)"
   ]
  },
  {
   "cell_type": "code",
   "execution_count": 30,
   "metadata": {},
   "outputs": [
    {
     "name": "stdout",
     "output_type": "stream",
     "text": [
      "Há evidências de que os grupos possuem igual variância\n"
     ]
    }
   ],
   "source": [
    "_, pVal=stats.levene(grupo1,grupo2,grupo3, center='mean', proportiontocut=0.05)\n",
    "\n",
    "if pVal <0.05:\n",
    "    \n",
    "    print('Há evidências de que os grupos não possuem igual variância')\n",
    "    \n",
    "else:\n",
    "    \n",
    "    print('Há evidências de que os grupos possuem igual variância')"
   ]
  },
  {
   "cell_type": "code",
   "execution_count": 31,
   "metadata": {},
   "outputs": [],
   "source": [
    "f_stat, pVal = stats.f_oneway(grupo1,grupo2,grupo3)"
   ]
  },
  {
   "cell_type": "code",
   "execution_count": 32,
   "metadata": {},
   "outputs": [
    {
     "name": "stdout",
     "output_type": "stream",
     "text": [
      "P-value para o teste two-sided (h0: não é diferente): 2.382555496190027e-05\n"
     ]
    }
   ],
   "source": [
    "print(f'P-value para o teste two-sided (h0: não é diferente): {pVal}')"
   ]
  },
  {
   "cell_type": "markdown",
   "metadata": {},
   "source": [
    "Pelo resultado, rejeitamos a hipótese nula. Há evidências de que os grupos são de distribuições diferentes."
   ]
  },
  {
   "cell_type": "markdown",
   "metadata": {},
   "source": [
    "O teste é calculado a partir da hipótese de que dados normalmente distribuídos com iguais variâncias, Var1/Var2 segue uma distribuição F. Do valor de F, encontramos o correspondente pvalue."
   ]
  },
  {
   "cell_type": "markdown",
   "metadata": {},
   "source": [
    "## 7. Teste 2Way - ANOVA \n",
    "\n",
    "Objetivo: Anova com 2 Fatores. \n",
    "    \n",
    "Premissas: \n",
    "\n",
    "    - Os dados são de populações normalmente distribuídas de igual variância \n"
   ]
  },
  {
   "cell_type": "code",
   "execution_count": 46,
   "metadata": {},
   "outputs": [],
   "source": [
    "import pandas as pd\n",
    "\n",
    "dados = pd.read_csv('https://raw.githubusercontent.com/thomas-haslwanter/statsintro_python/master/Tests/altman_12_6.txt', header=None,names=['hs','fetus','observer'])\n"
   ]
  },
  {
   "cell_type": "code",
   "execution_count": 47,
   "metadata": {},
   "outputs": [
    {
     "data": {
      "text/html": [
       "<div>\n",
       "<style scoped>\n",
       "    .dataframe tbody tr th:only-of-type {\n",
       "        vertical-align: middle;\n",
       "    }\n",
       "\n",
       "    .dataframe tbody tr th {\n",
       "        vertical-align: top;\n",
       "    }\n",
       "\n",
       "    .dataframe thead th {\n",
       "        text-align: right;\n",
       "    }\n",
       "</style>\n",
       "<table border=\"1\" class=\"dataframe\">\n",
       "  <thead>\n",
       "    <tr style=\"text-align: right;\">\n",
       "      <th></th>\n",
       "      <th>hs</th>\n",
       "      <th>fetus</th>\n",
       "      <th>observer</th>\n",
       "    </tr>\n",
       "  </thead>\n",
       "  <tbody>\n",
       "    <tr>\n",
       "      <th>0</th>\n",
       "      <td>14.3</td>\n",
       "      <td>1</td>\n",
       "      <td>1</td>\n",
       "    </tr>\n",
       "    <tr>\n",
       "      <th>1</th>\n",
       "      <td>14.0</td>\n",
       "      <td>1</td>\n",
       "      <td>1</td>\n",
       "    </tr>\n",
       "    <tr>\n",
       "      <th>2</th>\n",
       "      <td>14.8</td>\n",
       "      <td>1</td>\n",
       "      <td>1</td>\n",
       "    </tr>\n",
       "    <tr>\n",
       "      <th>3</th>\n",
       "      <td>13.6</td>\n",
       "      <td>1</td>\n",
       "      <td>2</td>\n",
       "    </tr>\n",
       "    <tr>\n",
       "      <th>4</th>\n",
       "      <td>13.6</td>\n",
       "      <td>1</td>\n",
       "      <td>2</td>\n",
       "    </tr>\n",
       "  </tbody>\n",
       "</table>\n",
       "</div>"
      ],
      "text/plain": [
       "     hs  fetus  observer\n",
       "0  14.3      1         1\n",
       "1  14.0      1         1\n",
       "2  14.8      1         1\n",
       "3  13.6      1         2\n",
       "4  13.6      1         2"
      ]
     },
     "execution_count": 47,
     "metadata": {},
     "output_type": "execute_result"
    }
   ],
   "source": [
    "dados.head()"
   ]
  },
  {
   "cell_type": "markdown",
   "metadata": {},
   "source": [
    "### Exemplo"
   ]
  },
  {
   "cell_type": "markdown",
   "metadata": {},
   "source": [
    "Foi realizado um experimento onde três observadores mediram a circunferência da cabeça de três fetos. Realize o teste Anova-TwoWay"
   ]
  },
  {
   "cell_type": "code",
   "execution_count": 49,
   "metadata": {},
   "outputs": [
    {
     "name": "stdout",
     "output_type": "stream",
     "text": [
      "                        df      sum_sq     mean_sq            F        PR(>F)\n",
      "C(fetus)               2.0  324.008889  162.004444  2113.101449  1.051039e-27\n",
      "C(observer)            3.0    1.198611    0.399537     5.211353  6.497055e-03\n",
      "C(fetus):C(observer)   6.0    0.562222    0.093704     1.222222  3.295509e-01\n",
      "Residual              24.0    1.840000    0.076667          NaN           NaN\n"
     ]
    }
   ],
   "source": [
    "from statsmodels.formula.api import ols\n",
    "from statsmodels.stats.anova import anova_lm\n",
    "\n",
    "formula = 'hs~C(fetus) + C(observer) + C(fetus):C(observer)'\n",
    "\n",
    "lm = ols(formula,dados).fit()\n",
    "\n",
    "results = anova_lm(lm)\n",
    "\n",
    "print(results)"
   ]
  },
  {
   "cell_type": "markdown",
   "metadata": {},
   "source": [
    "Analisando-se o P valor, verifica-se que:\n",
    "    \n",
    "    - Diferentes fetos mostram diferentes tamanhos de circunferência de cabeça c(fetus);\n",
    "    - A escolha do observador acaba também tendo grande impacto na medição c(observer);\n",
    "    - No entanto, nenhum observador errou de maneira grotesca com nenhum feto c(fetus:observer) "
   ]
  },
  {
   "cell_type": "markdown",
   "metadata": {},
   "source": [
    "## 8. Teste 3Way - ANOVA \n",
    "\n",
    "Objetivo: Anova com 3 Fatores. \n",
    "    \n",
    "Premissas: \n",
    "\n",
    "    - Os dados são de populações normalmente distribuídas de igual variância \n"
   ]
  },
  {
   "cell_type": "markdown",
   "metadata": {},
   "source": [
    "Com mais de 2 fatores é recomendado utilizar modelagem estatística, inspecionando os dados inicialmente através de gráficos. "
   ]
  },
  {
   "cell_type": "markdown",
   "metadata": {},
   "source": [
    "# Resumo:"
   ]
  },
  {
   "cell_type": "markdown",
   "metadata": {},
   "source": [
    "### Groups of Nominal Data\n",
    "\n",
    "- Nº of Groups Compared: 1\n",
    "    - Independent Samples: One-Sample T-Test or Wilcoxon Signed Rank Sum Test\n",
    " \n",
    " \n",
    "- Nº of Groups Compared: 2 or more\n",
    "    - Independent Samples: Fisher's exact test or chi-square test\n",
    "    - Paired Samples: McNemar's Test\n",
    "    \n",
    "    \n"
   ]
  },
  {
   "cell_type": "markdown",
   "metadata": {},
   "source": [
    "### Groups of Ordinal Data\n",
    "\n",
    "- Nº of Groups Compared: 2\n",
    "    - Independent Samples: Man-Whitney U test\n",
    "    - Paired Samples: Wilcoxon Signed Rank Test\n",
    " \n",
    " \n",
    "- Nº of Groups Compared: 3 or more\n",
    "    - Independent Samples: Krustal-Wallis Test\n",
    "    - Paired Samples: Friedman Test\n",
    "   "
   ]
  },
  {
   "cell_type": "markdown",
   "metadata": {},
   "source": [
    "### Groups of Continuous Data\n",
    "\n",
    "- Nº of Groups Compared: 2\n",
    "    - Independent Samples: Student T-Test or Mann Whitney Test\n",
    "    - Paired Samples: Pareid T-Test or Wilcoxon Signed Rank Sum Test\n",
    "        \n",
    "- Nº of Groups Compared: 3 or more\n",
    "    - Independent Samples: ANOVA or Kruskal-Wallis Test\n",
    "    - Paired Samples: Repeated Measures ANOVA or Friedman Test"
   ]
  }
 ],
 "metadata": {
  "kernelspec": {
   "display_name": "Python 3",
   "language": "python",
   "name": "python3"
  },
  "language_info": {
   "codemirror_mode": {
    "name": "ipython",
    "version": 3
   },
   "file_extension": ".py",
   "mimetype": "text/x-python",
   "name": "python",
   "nbconvert_exporter": "python",
   "pygments_lexer": "ipython3",
   "version": "3.7.6"
  }
 },
 "nbformat": 4,
 "nbformat_minor": 4
}
